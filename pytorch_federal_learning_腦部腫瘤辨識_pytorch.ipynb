{
 "nbformat": 4,
 "nbformat_minor": 0,
 "metadata": {
  "colab": {
   "name": "06_2_2_去個資化_(model parameter sharing)_數字辨識.ipynb",
   "provenance": [],
   "collapsed_sections": [
    "WIcfkHeysanD"
   ],
   "authorship_tag": "ABX9TyP+39uVsuyYCKsjg68sBO9n"
  },
  "kernelspec": {
   "name": "python3",
   "display_name": "Python 3"
  },
  "language_info": {
   "name": "python"
  },
  "accelerator": "GPU"
 },
 "cells": [
  {
   "cell_type": "markdown",
   "source": [
    "# Load Path"
   ],
   "metadata": {
    "collapsed": false
   }
  },
  {
   "cell_type": "code",
   "execution_count": 1,
   "outputs": [
    {
     "name": "stdout",
     "output_type": "stream",
     "text": [
      "C:\\Users\\marti\\OneDrive\\桌面\\CNN程式設計概念\\Brain_Tumor_detection\n"
     ]
    }
   ],
   "source": [
    "import sys\n",
    "import os\n",
    "from PIL import Image\n",
    "import shutil\n",
    "\n",
    "GOOGLE_DEFAULT_PATH=\"/content/drive/\"\n",
    "GOOGLE_PROJECT_PATH=\"My Drive/\"\n",
    "GOOGLE_LESSION_PATH=\"CNN程式設計概念\"\n",
    "GOOGLE_TMP_NAME=\"My Drive/course_python_tmp/\"\n",
    "\n",
    "GOOGLE_MY_PATH = GOOGLE_DEFAULT_PATH+GOOGLE_PROJECT_PATH+GOOGLE_LESSION_PATH\n",
    "MY_PATH_TMP = None\n",
    "\n",
    "# its win32, maybe there is win64 too?\n",
    "is_windows = sys.platform.startswith('win')\n",
    "\n",
    "if is_windows:\n",
    "    if os.path.exists('./tmp'):\n",
    "      shutil.rmtree('./tmp')\n",
    "    pass\n",
    "    os.makedirs('./tmp')\n",
    "    MY_PATH_TMP = \"./tmp/\"\n",
    "else:\n",
    "    from google.colab import drive\n",
    "    from PIL import Image\n",
    "\n",
    "    # 1. mount google drive\n",
    "    drive.mount(GOOGLE_DEFAULT_PATH, force_remount=True)\n",
    "    os.chdir(GOOGLE_MY_PATH) #change to this path\n",
    "    Curr_Path=os.getcwd()\n",
    "    print(Curr_Path)\n",
    "\n",
    "    MY_PATH_TMP = GOOGLE_DEFAULT_PATH+GOOGLE_TMP_NAME\n",
    "\n",
    "    # 2. create tmp\n",
    "    if not os.path.exists(MY_PATH_TMP):\n",
    "        os.makedirs(MY_PATH_TMP)\n",
    "    pass\n",
    "\n",
    "pass\n",
    "\n",
    "Curr_Path=os.getcwd()\n",
    "print(Curr_Path)"
   ],
   "metadata": {
    "collapsed": false,
    "pycharm": {
     "name": "#%%\n"
    }
   }
  },
  {
   "cell_type": "markdown",
   "source": [
    "套件導入"
   ],
   "metadata": {
    "collapsed": false
   }
  },
  {
   "cell_type": "code",
   "execution_count": 9,
   "outputs": [],
   "source": [
    "import matplotlib.pyplot as plt\n",
    "import numpy as np\n",
    "import pandas as pd\n",
    "from PIL import Image\n",
    "from PIL import ImageFile\n",
    "ImageFile.LOAD_TRUNCATED_IMAGES = True\n",
    "import random\n",
    "import os\n",
    "\n",
    "###########################\n",
    "from tqdm import tqdm\n",
    "\n",
    "# pytorch 函式庫\n",
    "import torch\n",
    "import torch.nn as nn\n",
    "import torch.nn.functional as F\n",
    "from collections import OrderedDict\n",
    "import torch.optim as optim\n",
    "\n",
    "# 借用tensorflow的影像處理函式庫\n",
    "from tensorflow.keras.preprocessing.image import img_to_array\n",
    "from tensorflow.keras.preprocessing.image import load_img\n",
    "from tensorflow.keras.applications.mobilenet_v2 import preprocess_input\n",
    "from tensorflow.keras.utils import to_categorical\n",
    "\n",
    "# 用來調整X/Y的函式庫\n",
    "from sklearn.linear_model import LinearRegression\n",
    "from sklearn.feature_selection import f_regression\n",
    "from sklearn.preprocessing import LabelBinarizer\n",
    "from sklearn.model_selection import train_test_split\n",
    "from sklearn.metrics import classification_report, accuracy_score, f1_score\n",
    "\n",
    "# 用來儲存樣本的函式庫\n",
    "import pickle # serialization"
   ],
   "metadata": {
    "collapsed": false,
    "pycharm": {
     "name": "#%%\n"
    }
   }
  },
  {
   "cell_type": "markdown",
   "source": [
    "# 載入黑白AI模型"
   ],
   "metadata": {
    "collapsed": false
   }
  },
  {
   "cell_type": "code",
   "execution_count": 10,
   "outputs": [],
   "source": [
    "def Image_to_Array(pic, width, height):\n",
    "    image = load_img(pic, target_size=(width, height),color_mode='grayscale')\n",
    "    image_array = img_to_array(image)\n",
    "    image_preprocess = preprocess_input(image_array) # normalize the value of each element in array\n",
    "    return  image_preprocess\n",
    "pass\n",
    "\n",
    "def load_pictures(picdir, width_size, height_size):\n",
    "\n",
    "    # init variables to store sample\n",
    "    x_data = []\n",
    "    y_labels = []\n",
    "\n",
    "    for dirPath, dirNames, fileNames in os.walk(picdir):\n",
    "        for f in fileNames:\n",
    "            # get y (ans)\n",
    "            ans = int(dirPath[len(picdir):])\n",
    "\n",
    "            # get x (picture)\n",
    "            PicDir = os.path.join(dirPath, f)\n",
    "            NArray_2D  = Image_to_Array(PicDir,width_size,height_size)\n",
    "\n",
    "            # store y, x\n",
    "            y_labels.append(ans)\n",
    "            x_data.append(NArray_2D)\n",
    "        pass\n",
    "    pass\n",
    "    return y_labels, x_data\n",
    "pass\n",
    "\n",
    "def encode_data(i_y, i_x, i_dim):\n",
    "    # convert the data and labels to NumPy arrays\n",
    "    x_data = np.array(i_x, dtype=\"float32\")\n",
    "    y_labels = np.array(i_y)\n",
    "    #################################################\n",
    "    # perform one-hot encoding on the labels\n",
    "    # from 3 to [0,0,0,1,0,0,0,0,0,0]\n",
    "    #################################################\n",
    "    y_labels3 = to_categorical(y_labels,i_dim)\n",
    "\n",
    "    return y_labels3, x_data\n",
    "pass\n",
    "\n",
    "# 把眾多照片存成一個檔案\n",
    "def save_sample(i_y, i_x, i_filename):\n",
    "    f = open(i_filename, 'wb')\n",
    "    pickle.dump([i_y,i_x], f)\n",
    "    f.close()\n",
    "pass\n",
    "\n",
    "# 把那一個檔案中讀出來眾多照片\n",
    "def load_sample(i_filename):\n",
    "    f = open(i_filename, 'rb')\n",
    "    r = pickle.load(f)\n",
    "    y_labels = r[0]\n",
    "    x_data = r[1]\n",
    "    return y_labels, x_data\n",
    "pass\n",
    "\n",
    "# 在眾多照片中隨機抽樣\n",
    "def get_sample(i_y, i_x, i_sample_size):\n",
    "    ##############################\n",
    "    # get training data randomly\n",
    "\n",
    "    # init x batch and y batch\n",
    "    x_batch=[]\n",
    "    y_batch=[]\n",
    "\n",
    "    sample = random.sample(range(len(i_y)), i_sample_size)\n",
    "\n",
    "    x_batch = [i_x[i] for i in sample]\n",
    "    y_batch = [i_y[i] for i in sample]\n",
    "\n",
    "    return np.array(y_batch), np.array(x_batch)\n",
    "pass\n",
    "\n",
    "# 抽樣完後，把照片轉成tensor格式\n",
    "def Image_to_Tensor(pic, width_size, height_size, depth_size=1):\n",
    "    image = None\n",
    "    if depth_size == 1: # 黑白\n",
    "        image = load_img(pic, target_size=(width_size, height_size),color_mode='grayscale')\n",
    "    else : # 彩色\n",
    "        image = load_img(pic, target_size=(width_size,height_size))\n",
    "    pass\n",
    "    image_array = img_to_array(image)\n",
    "    image_preprocess = preprocess_input(image_array) # normalize the value of each element in array\n",
    "    # x.reshape(batch, width, height, bw=1) color=4\n",
    "    x = image_preprocess.reshape(-1, width_size,height_size,depth_size)\n",
    "    x = np.transpose(x, (0, 3, 1, 2))\n",
    "    x = torch.from_numpy(x).float()\n",
    "    return x\n",
    "pass\n",
    "\n",
    "class Graph_pytorch(nn.Module):\n",
    "    def __init__(self):\n",
    "        super(Graph_pytorch, self).__init__() # customize model\n",
    "        self.var = OrderedDict()\n",
    "\n",
    "        #self.op = OrderedDict()\n",
    "\n",
    "        self.op_sampling = OrderedDict()\n",
    "        self.op_linear = OrderedDict()\n",
    "\n",
    "        self.lr = 0.001 # learning rate\n",
    "    pass\n",
    "pass\n",
    "\n",
    "def Graph_pytorch_set_input_size(self, i_input_size):\n",
    "    self.NETWORK_INPUT_FRAME_WIDTH = i_input_size[0]\n",
    "    self.NETWORK_INPUT_FRAME_HEIGHT = i_input_size[1]\n",
    "    self.NETWORK_INPUT_FRAME_DEPTH = i_input_size[2]\n",
    "pass\n",
    "Graph_pytorch.set_input_size=Graph_pytorch_set_input_size\n",
    "\n",
    "def Graph_pytorch_set_output_size(self, i_output_dim):\n",
    "    self.NETWORK_OUTPUT_DIM=i_output_dim\n",
    "pass\n",
    "Graph_pytorch.set_output_size=Graph_pytorch_set_output_size\n",
    "\n",
    "\n",
    "def Graph_pytorch_init_op_sampling(self):\n",
    "\n",
    "    self.op_sampling['dropout'] = nn.Dropout2d(p=0.5)\n",
    "    # conv 1\n",
    "    _layer_1_input = self.NETWORK_INPUT_FRAME_DEPTH\n",
    "    _layer_1_output = 32\n",
    "    self.op_sampling['conv_1'] =  nn.Conv2d(in_channels=_layer_1_input,\n",
    "                      out_channels=_layer_1_output,\n",
    "                      kernel_size=5,\n",
    "                      stride=2,\n",
    "                      padding=0,\n",
    "                      bias=True)\n",
    "    # pool 1\n",
    "    filter_w=2\n",
    "    filter_h=2\n",
    "    stride_x=2\n",
    "    stride_y=2\n",
    "    self.op_sampling['pool_1']  = nn.MaxPool2d((filter_w, filter_h),\n",
    "                       stride=(stride_x, stride_y),\n",
    "                       padding=0)\n",
    "\n",
    "    # conv 2\n",
    "    _layer_3_input = _layer_1_output\n",
    "    _layer_3_output = 64\n",
    "    self.op_sampling['conv_2'] =  nn.Conv2d(in_channels=_layer_3_input,\n",
    "                      out_channels=_layer_3_output,\n",
    "                      kernel_size=5,\n",
    "                      stride=2,\n",
    "                      padding=0)\n",
    "\n",
    "    # pool 2\n",
    "    self.op_sampling['pool_2'] = nn.MaxPool2d((filter_w, filter_h),\n",
    "                      stride=(stride_x, stride_y),\n",
    "                      padding=0)\n",
    "pass\n",
    "Graph_pytorch.init_op_sampling = Graph_pytorch_init_op_sampling\n",
    "\n",
    "\n",
    "def Graph_pytorch_get_linear_relation_layer_input_size(self):\n",
    "\n",
    "    i_x = np.zeros((1,  self.NETWORK_INPUT_FRAME_DEPTH,\n",
    "            self.NETWORK_INPUT_FRAME_WIDTH,\n",
    "            self.NETWORK_INPUT_FRAME_HEIGHT),dtype=float)\n",
    "    x = self.to_placeholder(i_x)\n",
    "    # 產出經過samping的樣本\n",
    "    for index, layer in self.op_sampling.items():\n",
    "        x = layer(x)\n",
    "    pass\n",
    "\n",
    "    # 找出經過sampling的樣本的大小\n",
    "\n",
    "    _batch, _width, _height, _depth = list(x.size())\n",
    "\n",
    "    # 這個經過sampling的樣本，需要拉平成一維矩陣，才能丟進去線性關係式\n",
    "    # 線性關係式: linear relation / full connected layer / fc layer\n",
    "    # 下面的步驟是找出一維矩陣的大小\n",
    "    self.Linear_Relation_INPUT_SIZE = _width * _height * _depth\n",
    "pass\n",
    "Graph_pytorch.get_linear_relation_layer_input_size = Graph_pytorch_get_linear_relation_layer_input_size\n",
    "\n",
    "def Graph_pytorch_init_op_linear(self):\n",
    "    # 建立多項式 (fc2) Y=AX+b，其中有300個x，Y是1x10的矩陣\n",
    "    _input_shape = self.Linear_Relation_INPUT_SIZE # 須根據sampling後的大小來手動設定\n",
    "    _ouput_shape = self.NETWORK_OUTPUT_DIM\n",
    "    _hidden_layer_shape_1 = 256\n",
    "\n",
    "    self.op_linear['fc1'] = nn.Linear(_input_shape, _hidden_layer_shape_1)\n",
    "    # self.op_linear['relu_1'] = nn.ReLU()\n",
    "\n",
    "    self.op_linear['fc2'] = nn.Linear(_hidden_layer_shape_1, _ouput_shape)\n",
    "    self.op_linear['softmax'] = nn.Softmax(dim=1)\n",
    "pass\n",
    "Graph_pytorch.init_op_linear = Graph_pytorch_init_op_linear\n",
    "\n",
    "\n",
    "def Graph_pytorch_init_optimizer(self):\n",
    "    # 指定我們的優化器為 Adam，需要告訴優化器\n",
    "    # variable是誰(也就是告訴優化器A和b是哪個變數)\n",
    "    _parameters = []\n",
    "\n",
    "    # for key, value in self.var.items():\n",
    "    #   _parameters.append({'params':value})\n",
    "    #pass\n",
    "\n",
    "    for key, value in self.op_sampling.items():\n",
    "        _parameters.append({'params':value.parameters()})\n",
    "    pass\n",
    "\n",
    "    for key, value in self.op_linear.items():\n",
    "        _parameters.append({'params':value.parameters()})\n",
    "    pass\n",
    "\n",
    "    self.optimizer = optim.Adam(_parameters,\n",
    "                  lr=self.lr, weight_decay=0)\n",
    "pass\n",
    "Graph_pytorch.init_optimizer = Graph_pytorch_init_optimizer\n",
    "\n",
    "\n",
    "def Graph_pytorch_forward(self, i_x):\n",
    "\n",
    "    # (batch, bw color, width, height)\n",
    "    x = torch.reshape(i_x,(-1,self.NETWORK_INPUT_FRAME_DEPTH\n",
    "            ,self.NETWORK_INPUT_FRAME_WIDTH\n",
    "            ,self.NETWORK_INPUT_FRAME_HEIGHT))\n",
    "\n",
    "    for index, value in self.op_sampling.items():\n",
    "        x = value(x)\n",
    "        # nn.ReLU(True)(x)\n",
    "    pass\n",
    "\n",
    "    _linear_input_shape = self.Linear_Relation_INPUT_SIZE # 須根據sampling後的大小來手動設定\n",
    "    x = x.view(-1, _linear_input_shape)\n",
    "\n",
    "    for index, value in self.op_linear.items():\n",
    "        x = value(x)\n",
    "    pass\n",
    "    return x\n",
    "pass\n",
    "Graph_pytorch.forward = Graph_pytorch_forward\n",
    "\n",
    "def Graph_pytorch_to_placeholder(self, i_x):\n",
    "    return torch.tensor(i_x, requires_grad=True,dtype=torch.float)\n",
    "pass\n",
    "Graph_pytorch.to_placeholder = Graph_pytorch_to_placeholder\n",
    "\n",
    "\n",
    "def Graph_pytorch_backward(self, i_loss):\n",
    "    # 反向傳播\n",
    "    i_loss.backward()\n",
    "    # 更新模型參數\n",
    "    self.optimizer.step()\n",
    "    # 清空梯度\n",
    "    self.optimizer.zero_grad()\n",
    "pass\n",
    "Graph_pytorch.backward = Graph_pytorch_backward\n",
    "\n",
    "\n",
    "def Graph_pytorch_cal_loss(self, Y_sample, Y_prediction):\n",
    "    error = Y_sample - Y_prediction\n",
    "    loss = (error ** 2).mean()\n",
    "    return loss\n",
    "pass\n",
    "Graph_pytorch.cal_loss = Graph_pytorch_cal_loss"
   ],
   "metadata": {
    "collapsed": false,
    "pycharm": {
     "name": "#%%\n"
    }
   }
  },
  {
   "cell_type": "markdown",
   "source": [
    "將圖片設置為.p，以利之後讀取(若已有要訓練的圖片集檔案可跳過此步)"
   ],
   "metadata": {
    "collapsed": false
   }
  },
  {
   "cell_type": "raw",
   "source": [
    "# size of picture\n",
    "width_size=60\n",
    "height_size=80\n",
    "\n",
    "# All_Brain_Tumor_classify\n",
    "## include no_tumor(0),meningioma_tumor(1),glioma_tumor(2),pituitary_tumor(3)\n",
    "y_labels,x_data = load_pictures(\"data/Brain_Tumor_classify/\",width_size,height_size)\n",
    "save_sample(y_labels,x_data,'data/Brain_Tumor_classify.p')\n",
    "\n",
    "# meningioma_tumor\n",
    "## include no_tumor(0),meningioma_tumor(1)\n",
    "y_labels_meningioma_tumor,x_data_meningioma_tumor = load_pictures(\"data/meningioma_tumor/\",width_size,height_size)\n",
    "save_sample(y_labels_meningioma_tumor,x_data_meningioma_tumor,'data/meningioma_tumor.p')\n",
    "\n",
    "# glioma_tumor\n",
    "## include no_tumor(0),glioma_tumor(2)\n",
    "y_labels_glioma_tumor,x_data_glioma_tumor = load_pictures(\"data/glioma_tumor/\",width_size,height_size)\n",
    "save_sample(y_labels_glioma_tumor,x_data_glioma_tumor,'data/glioma_tumor.p')\n",
    "\n",
    "# pituitary_tumor\n",
    "## include no_tumor(0),pituitary_tumor(3)\n",
    "y_labels_pituitary_tumor,x_data_pituitary_tumor = load_pictures(\"data/pituitary_tumor/\",width_size,height_size)\n",
    "save_sample(y_labels_pituitary_tumor,x_data_pituitary_tumor,'data/pituitary_tumor.p')"
   ],
   "metadata": {
    "collapsed": false,
    "pycharm": {
     "name": "#%% raw\n"
    }
   }
  },
  {
   "cell_type": "markdown",
   "source": [
    "若已有要訓練的圖片集檔案可跳至此步"
   ],
   "metadata": {
    "collapsed": false
   }
  },
  {
   "cell_type": "code",
   "execution_count": 11,
   "outputs": [],
   "source": [
    "y_labels,x_data = load_sample('data/Brain_Tumor_classify.p')\n",
    "y_labels_glioma_tumor,x_data_glioma_tumor = load_sample('data/glioma_tumor.p')\n",
    "y_labels_meningioma_tumor,x_data_meningioma_tumor = load_sample('data/meningioma_tumor.p')\n",
    "y_labels_pituitary_tumor,x_data_pituitary_tumor = load_sample('data/pituitary_tumor.p')"
   ],
   "metadata": {
    "collapsed": false,
    "pycharm": {
     "name": "#%%\n"
    }
   }
  },
  {
   "cell_type": "markdown",
   "source": [
    "環境設置"
   ],
   "metadata": {
    "collapsed": false
   }
  },
  {
   "cell_type": "code",
   "execution_count": 12,
   "outputs": [],
   "source": [
    "############################\n",
    "# 0. environment setting\n",
    "# size of picture\n",
    "width_size=60\n",
    "height_size=80\n",
    "depth_size=1 # bw=1, color=3\n",
    "output_dim=4 # bw tumor img class=4 (0~3), 分類\n",
    "\n",
    "############################\n",
    "# 2. data cleaning\n",
    "\n",
    "# 2.1. data cleaning for x and y\n",
    "y_c_labels, x_c_data=encode_data(y_labels,x_data,output_dim)\n",
    "y_c_labels_meningioma_tumor, x_c_data_meningioma_tumor=encode_data(y_labels_meningioma_tumor,x_data_meningioma_tumor,output_dim)\n",
    "y_c_labels_glioma_tumor, x_c_data_glioma_tumor=encode_data(y_labels_glioma_tumor,x_data_glioma_tumor,output_dim)\n",
    "y_c_labels_pituitary_tumor, x_c_data_pituitary_tumor=encode_data(y_labels_pituitary_tumor,x_data_pituitary_tumor,output_dim)\n",
    "\n",
    "# 2.2. partition the data into training and testing sets\n",
    "# partition the data into training and testing sets\n",
    "# 90% of the data for training and the remaining 10% for testing\n",
    "(trainX, testX, trainY, testY) = train_test_split(x_c_data, y_c_labels,\n",
    "          test_size=0.1, stratify=y_c_labels, random_state=42)\n",
    "\n",
    "(trainX_meningioma_tumor, testX_meningioma_tumor, trainY_meningioma_tumor, testY_meningioma_tumor) = train_test_split(x_c_data_meningioma_tumor, y_c_labels_meningioma_tumor,test_size=0.1, stratify=y_c_labels_meningioma_tumor, random_state=42)\n",
    "\n",
    "(trainX_glioma_tumor, testX_glioma_tumor, trainY_glioma_tumor, testY_glioma_tumor) = train_test_split(x_c_data_glioma_tumor, y_c_labels_glioma_tumor,\n",
    "          test_size=0.1, stratify=y_c_labels_glioma_tumor, random_state=42)\n",
    "\n",
    "(trainX_pituitary_tumor, testX_pituitary_tumor, trainY_pituitary_tumor, testY_pituitary_tumor) = train_test_split(x_c_data_pituitary_tumor, y_c_labels_pituitary_tumor,\n",
    "          test_size=0.1, stratify=y_c_labels_pituitary_tumor, random_state=42)"
   ],
   "metadata": {
    "collapsed": false,
    "pycharm": {
     "name": "#%%\n"
    }
   }
  },
  {
   "cell_type": "raw",
   "source": [
    "聯邦學習模型初始化"
   ],
   "metadata": {
    "collapsed": false,
    "pycharm": {
     "name": "#%% raw\n"
    }
   }
  },
  {
   "cell_type": "code",
   "execution_count": 13,
   "outputs": [],
   "source": [
    "# build a training model\n",
    "#model_meningioma_tumor\n",
    "model_meningioma_tumor=Graph_pytorch()\n",
    "model_meningioma_tumor.set_output_size(output_dim)\n",
    "model_meningioma_tumor.set_input_size([width_size,height_size,depth_size]) # width, height, depth(bw)\n",
    "#model_meningioma_tumor.init_var()\n",
    "model_meningioma_tumor.init_op_sampling()\n",
    "model_meningioma_tumor.get_linear_relation_layer_input_size()\n",
    "model_meningioma_tumor.init_op_linear()\n",
    "model_meningioma_tumor.init_optimizer()"
   ],
   "metadata": {
    "collapsed": false,
    "pycharm": {
     "name": "#%%\n"
    }
   }
  },
  {
   "cell_type": "code",
   "execution_count": 14,
   "outputs": [],
   "source": [
    "# build a training model\n",
    "# model_glioma_tumor\n",
    "model_glioma_tumor=Graph_pytorch()\n",
    "model_glioma_tumor.set_output_size(output_dim)\n",
    "model_glioma_tumor.set_input_size([width_size,height_size,depth_size]) # width, height, depth(bw)\n",
    "\n",
    "#model_glioma_tumor.init_var()\n",
    "model_glioma_tumor.init_op_sampling()\n",
    "model_glioma_tumor.get_linear_relation_layer_input_size()\n",
    "model_glioma_tumor.init_op_linear()\n",
    "model_glioma_tumor.init_optimizer()"
   ],
   "metadata": {
    "collapsed": false,
    "pycharm": {
     "name": "#%%\n"
    }
   }
  },
  {
   "cell_type": "code",
   "execution_count": 15,
   "outputs": [],
   "source": [
    "# build a training model\n",
    "# model_pituitary_tumor\n",
    "model_pituitary_tumor=Graph_pytorch()\n",
    "model_pituitary_tumor.set_output_size(output_dim)\n",
    "model_pituitary_tumor.set_input_size([width_size,height_size,depth_size]) # width, height, depth(bw)\n",
    "\n",
    "# model_pituitary_tumor.init_var()\n",
    "model_pituitary_tumor.init_op_sampling()\n",
    "model_pituitary_tumor.get_linear_relation_layer_input_size()\n",
    "model_pituitary_tumor.init_op_linear()\n",
    "model_pituitary_tumor.init_optimizer()"
   ],
   "metadata": {
    "collapsed": false,
    "pycharm": {
     "name": "#%%\n"
    }
   }
  },
  {
   "cell_type": "markdown",
   "source": [
    "聯邦學習模型訓練\n",
    "under test(每次訓練前分享一次資訊)"
   ],
   "metadata": {
    "collapsed": false
   }
  },
  {
   "cell_type": "code",
   "execution_count": 16,
   "outputs": [
    {
     "name": "stdout",
     "output_type": "stream",
     "text": [
      "\n",
      " start federal learning....\n"
     ]
    },
    {
     "name": "stderr",
     "output_type": "stream",
     "text": [
      "Processing 299, accuracy_meningioma_tumor: 0.6015625, accuracy_glioma_tumor: 0.609375, accuracy_pituitary_tumor: 0.6484375 : 100%|██████████| 300/300 [31:15<00:00,  6.25s/it] \n"
     ]
    }
   ],
   "source": [
    "# pychart\n",
    "chart_epoch = []\n",
    "chart_x_meningioma_tumor = []\n",
    "chart_x_glioma_tumor = []\n",
    "chart_x_pituitary_tumor = []\n",
    "\n",
    "# 取樣\n",
    "_sample_y, _sample_x = get_sample(testY, testX, 128)\n",
    "# testing data transform\n",
    "x_test = _sample_x.reshape(-1, width_size, height_size, depth_size)\n",
    "x_test = np.transpose(x_test, (0, 3, 1, 2))\n",
    "# model_meningioma_tumor\n",
    "X_test_meningioma_tumor = model_meningioma_tumor.to_placeholder(x_test)\n",
    "Y_test_meningioma_tumor = model_meningioma_tumor.to_placeholder(_sample_y)\n",
    "# model_glioma_tumor\n",
    "X_test_glioma_tumor = model_glioma_tumor.to_placeholder(x_test)\n",
    "Y_test_glioma_tumor = model_glioma_tumor.to_placeholder(_sample_y)\n",
    "# model_pituitary_tumor\n",
    "X_test_pituitary_tumor = model_pituitary_tumor.to_placeholder(x_test)\n",
    "Y_test_pituitary_tumor = model_pituitary_tumor.to_placeholder(_sample_y)\n",
    "\n",
    "'''\n",
    "# 模型欲分享的參數\n",
    "# sampling\n",
    "sampling_parameters = ['conv_1','conv_2']\n",
    "# linear\n",
    "linear_parameters = ['fc1','fc2']\n",
    "'''\n",
    "\n",
    "########################\n",
    "# federal learning\n",
    "# 待解決問題\n",
    "# 1. 合併參數的方式，除了avg之外，還有沒有其他方法，以加快學習速度\n",
    "# 2. 可否不用合併全部參數，只要合併特定參數即可，以減少頻寬耗費\n",
    "# 3. (meta learning)合併->自我訓練->合併->自我訓練的週期要多少才能最快化學習速度\n",
    "print(\"\\n start federal learning....\", flush=True)\n",
    "\n",
    "#交換次數及每次交換中訓練次數設置\n",
    "FL_EXCHANGE_TIMES=300 # 交換資訊次數\n",
    "FL_SELF_LEARNING_TIMES=90   # 每輪交換資訊後機構各自訓練次數\n",
    "\n",
    "model_num = 3   # 參與模型數量\n",
    "NumberOfOneTraining = 16    # batch size for one training\n",
    "\n",
    "pbar = tqdm(range(FL_EXCHANGE_TIMES))\n",
    "\n",
    "for j in pbar:\n",
    "    # 1. start training\n",
    "    for i in range(FL_SELF_LEARNING_TIMES):\n",
    "\n",
    "        # model_meningioma_tumor\n",
    "        y_train_meningioma_tumor, x_train_meningioma_tumor = get_sample(trainY_meningioma_tumor, trainX_meningioma_tumor, NumberOfOneTraining)\n",
    "        # 轉換矩陣 from (batch, width, height, depth)\n",
    "        #      to  (batch, depth, width, height)\n",
    "        x_train_meningioma_tumor = x_train_meningioma_tumor.reshape(-1, width_size, height_size, depth_size)\n",
    "        x_train_meningioma_tumor = np.transpose(x_train_meningioma_tumor, (0, 3, 1, 2))\n",
    "        X_s_meningioma_tumor = model_meningioma_tumor.to_placeholder(x_train_meningioma_tumor)\n",
    "        Y_s_meningioma_tumor = model_meningioma_tumor.to_placeholder(y_train_meningioma_tumor)\n",
    "        # get y_pred\n",
    "        y_prediction_meningioma_tumor = model_meningioma_tumor.forward(X_s_meningioma_tumor)\n",
    "        # get loss = y - y_pred\n",
    "        loss_meningioma_tumor = model_meningioma_tumor.cal_loss(Y_s_meningioma_tumor, y_prediction_meningioma_tumor)\n",
    "        # adjust a,b\n",
    "        model_meningioma_tumor.backward(loss_meningioma_tumor)\n",
    "\n",
    "        # model_glioma_tumor\n",
    "        y_train_glioma_tumor, x_train_glioma_tumor = get_sample(trainY_glioma_tumor, trainX_glioma_tumor, NumberOfOneTraining)\n",
    "        # 轉換矩陣 from (batch, width, height, depth)\n",
    "        #      to  (batch, depth, width, height)\n",
    "        x_train_glioma_tumor = x_train_glioma_tumor.reshape(-1, width_size, height_size, depth_size)\n",
    "        x_train_glioma_tumor = np.transpose(x_train_glioma_tumor, (0, 3, 1, 2))\n",
    "        X_s_glioma_tumor = model_glioma_tumor.to_placeholder(x_train_glioma_tumor)\n",
    "        Y_s_glioma_tumor = model_glioma_tumor.to_placeholder(y_train_glioma_tumor)\n",
    "        # get y_pred\n",
    "        y_prediction_glioma_tumor=model_glioma_tumor.forward(X_s_glioma_tumor)\n",
    "        # get loss = y - y_pred\n",
    "        loss_glioma_tumor=model_glioma_tumor.cal_loss(Y_s_glioma_tumor, y_prediction_glioma_tumor)\n",
    "        # adjust a,b\n",
    "        model_glioma_tumor.backward(loss_glioma_tumor)\n",
    "\n",
    "        # model_pituitary_tumor\n",
    "        y_train_pituitary_tumor, x_train_pituitary_tumor = get_sample(trainY_pituitary_tumor, trainX_pituitary_tumor, NumberOfOneTraining)\n",
    "        # 轉換矩陣 from (batch, width, height, depth)\n",
    "        #      to  (batch, depth, width, height)\n",
    "        x_train_pituitary_tumor = x_train_pituitary_tumor.reshape(-1, width_size, height_size, depth_size)\n",
    "        x_train_pituitary_tumor = np.transpose(x_train_pituitary_tumor, (0, 3, 1, 2))\n",
    "        X_s_pituitary_tumor = model_pituitary_tumor.to_placeholder(x_train_pituitary_tumor)\n",
    "        Y_s_pituitary_tumor = model_pituitary_tumor.to_placeholder(y_train_pituitary_tumor)\n",
    "        # get y_pred\n",
    "        y_prediction_pituitary_tumor=model_pituitary_tumor.forward(X_s_pituitary_tumor)\n",
    "        # get loss = y - y_pred\n",
    "        loss_pituitary_tumor=model_pituitary_tumor.cal_loss(Y_s_pituitary_tumor, y_prediction_pituitary_tumor)\n",
    "        # adjust a,b\n",
    "        model_pituitary_tumor.backward(loss_pituitary_tumor)\n",
    "    pass\n",
    "\n",
    "    # 2. 經訓練後再次分享各機構參數\n",
    "    for index in model_meningioma_tumor.op_sampling.keys():\n",
    "        try:\n",
    "            avg=(model_meningioma_tumor.op_sampling[index].weight.data + model_glioma_tumor.op_sampling[index].weight.data + model_pituitary_tumor.op_sampling[index].weight.data) / model_num\n",
    "            model_meningioma_tumor.op_sampling[index].weight.data.copy_(avg)\n",
    "            model_glioma_tumor.op_sampling[index].weight.data.copy_(avg)\n",
    "            model_pituitary_tumor.op_sampling[index].weight.data.copy_(avg)\n",
    "        except:\n",
    "            continue\n",
    "\n",
    "    # 已主要模型之參數為主，進行參數分享\n",
    "    for index in model_meningioma_tumor.op_linear.keys():\n",
    "        try:\n",
    "            avg=(model_meningioma_tumor.op_linear[index].weight.data + model_glioma_tumor.op_linear[index].weight.data + model_pituitary_tumor.op_linear[index].weight.data) / model_num\n",
    "            model_meningioma_tumor.op_linear[index].weight.data.copy_(avg)\n",
    "            model_glioma_tumor.op_linear[index].weight.data.copy_(avg)\n",
    "            model_pituitary_tumor.op_linear[index].weight.data.copy_(avg)\n",
    "        except:\n",
    "            continue\n",
    "\n",
    "    # 3. testing\n",
    "    # model_meningioma_tumor\n",
    "    # get y_pred\n",
    "    y_test_prediction_meningioma_tumor = model_meningioma_tumor.forward(X_test_meningioma_tumor)\n",
    "    y_truth_meningioma_tumor = torch.argmax(Y_test_meningioma_tumor,dim=1).cpu().detach().numpy()\n",
    "    y_pred_meningioma_tumor = torch.argmax(y_test_prediction_meningioma_tumor,dim=1).cpu().detach().numpy()\n",
    "\n",
    "    accuracy_meningioma_tumor = accuracy_score(y_truth_meningioma_tumor,y_pred_meningioma_tumor)\n",
    "\n",
    "    # model_glioma_tumor\n",
    "    # get y_pred\n",
    "    y_test_prediction_glioma_tumor = model_glioma_tumor.forward(X_test_glioma_tumor)\n",
    "\n",
    "    y_truth_glioma_tumor = torch.argmax(Y_test_glioma_tumor,dim=1).cpu().detach().numpy()\n",
    "    y_pred_glioma_tumor = torch.argmax(y_test_prediction_glioma_tumor,dim=1).cpu().detach().numpy()\n",
    "\n",
    "    accuracy_glioma_tumor = accuracy_score(y_truth_glioma_tumor,y_pred_glioma_tumor)\n",
    "\n",
    "    # model_pituitary_tumor\n",
    "    # get y_pred\n",
    "    y_test_prediction_pituitary_tumor = model_pituitary_tumor.forward(X_test_pituitary_tumor)\n",
    "\n",
    "    y_truth_pituitary_tumor = torch.argmax(Y_test_pituitary_tumor,dim=1).cpu().detach().numpy()\n",
    "    y_pred_pituitary_tumor = torch.argmax(y_test_prediction_pituitary_tumor,dim=1).cpu().detach().numpy()\n",
    "\n",
    "    accuracy_pituitary_tumor=accuracy_score(y_truth_pituitary_tumor,y_pred_pituitary_tumor)\n",
    "\n",
    "    pbar.set_description(f'Processing {j}, accuracy_meningioma_tumor: {accuracy_meningioma_tumor}, accuracy_glioma_tumor: {accuracy_glioma_tumor}, accuracy_pituitary_tumor: {accuracy_pituitary_tumor} ')\n",
    "\n",
    "    # 3.3.4. store the statistic chart\n",
    "    chart_epoch.append(str(j))\n",
    "    chart_x_meningioma_tumor.append(accuracy_meningioma_tumor)\n",
    "    chart_x_glioma_tumor.append(accuracy_glioma_tumor)\n",
    "    chart_x_pituitary_tumor.append(accuracy_pituitary_tumor)\n",
    "pass\n",
    "\n",
    "# save log\n",
    "df = pd.DataFrame (chart_epoch,columns=['epoch'])\n",
    "df['accuracy_meningioma_tumor'] = chart_x_meningioma_tumor\n",
    "df['accuracy_glioma_tumor'] = chart_x_glioma_tumor\n",
    "df['accuracy_pituitary_tumor'] = chart_x_pituitary_tumor\n",
    "\n",
    "df.to_csv (MY_PATH_TMP+'fedavgmodel_bs16_train90_exchange300_dropout1_fc2_test3.csv', index = False, header=True)"
   ],
   "metadata": {
    "collapsed": false,
    "pycharm": {
     "name": "#%%\n"
    }
   }
  },
  {
   "cell_type": "markdown",
   "source": [
    "將訓練好模型載入並存入model以方便之後重開可繼續測試"
   ],
   "metadata": {
    "collapsed": false,
    "pycharm": {
     "name": "#%% md\n"
    }
   }
  },
  {
   "cell_type": "code",
   "execution_count": 28,
   "outputs": [],
   "source": [
    "# 6. save model\n",
    "torch.save(model_meningioma_tumor, MY_PATH_TMP+'FL_pytorch_model_meningioma_tumor.pkl')\n",
    "torch.save(model_glioma_tumor, MY_PATH_TMP+'FL_pytorch_model_glioma_tumor.pkl')\n",
    "torch.save(model_pituitary_tumor, MY_PATH_TMP+'FL_pytorch_model_pituitary_tumor.pkl')"
   ],
   "metadata": {
    "collapsed": false,
    "pycharm": {
     "name": "#%%\n"
    }
   }
  },
  {
   "cell_type": "code",
   "execution_count": 29,
   "outputs": [],
   "source": [
    "FL_model_meningioma_tumor = torch.load(MY_PATH_TMP+'FL_pytorch_model_glioma_tumor.pkl')\n",
    "FL_model_glioma_tumor = torch.load(MY_PATH_TMP+'FL_pytorch_model_glioma_tumor.pkl')\n",
    "FL_model_pituitary_tumor = torch.load(MY_PATH_TMP+'FL_pytorch_model_pituitary_tumor.pkl')"
   ],
   "metadata": {
    "collapsed": false,
    "pycharm": {
     "name": "#%%\n"
    }
   }
  },
  {
   "cell_type": "code",
   "execution_count": 41,
   "outputs": [],
   "source": [
    "# 5. testing a picture\n",
    "PicDir= \"data/val/3/image(1).jpg\"\n",
    "#display(Image.open(PicDir))\n",
    "NArray_2D  = Image_to_Tensor(PicDir,width_size,height_size)"
   ],
   "metadata": {
    "collapsed": false,
    "pycharm": {
     "name": "#%%\n"
    }
   }
  },
  {
   "cell_type": "code",
   "execution_count": 42,
   "outputs": [],
   "source": [
    "def pred(prediction):\n",
    "    if prediction==0:\n",
    "        return 'normal'\n",
    "    elif prediction==1:\n",
    "        return 'meningioma_tumor'\n",
    "    elif prediction==2:\n",
    "        return 'glioma_tumor'\n",
    "    elif prediction==3:\n",
    "        return 'pituitary_tumor'"
   ],
   "metadata": {
    "collapsed": false,
    "pycharm": {
     "name": "#%%\n"
    }
   }
  },
  {
   "cell_type": "code",
   "execution_count": 43,
   "outputs": [
    {
     "name": "stdout",
     "output_type": "stream",
     "text": [
      "[[1.7473752e-18 9.8523621e-08 1.9556297e-05 9.9998033e-01]]\n",
      "Predictions for models with only meningioma tumor:pituitary_tumor\n",
      "[[1.7473752e-18 9.8523621e-08 1.9556297e-05 9.9998033e-01]]\n",
      "Predictions for models with only glioma tumor:pituitary_tumor\n",
      "[[2.9009050e-20 2.0560962e-09 4.8667541e-09 1.0000000e+00]]\n",
      "Predictions for models with only pituitary tumor:pituitary_tumor\n"
     ]
    }
   ],
   "source": [
    "#FL_model_meningioma_tumor\n",
    "prediction=FL_model_meningioma_tumor.forward(NArray_2D)\n",
    "print(prediction.clone().detach().numpy())\n",
    "print(f\"Predictions for models with only meningioma tumor:{pred(np.argmax(prediction.clone().detach().numpy()))}\")\n",
    "\n",
    "#FL_model_glioma_tumor\n",
    "prediction=FL_model_glioma_tumor.forward(NArray_2D)\n",
    "print(prediction.clone().detach().numpy())\n",
    "print(f\"Predictions for models with only glioma tumor:{pred(np.argmax(prediction.clone().detach().numpy()))}\")\n",
    "\n",
    "#FL_model_pituitary_tumor\n",
    "prediction=FL_model_pituitary_tumor.forward(NArray_2D)\n",
    "print(prediction.clone().detach().numpy())\n",
    "print(f\"Predictions for models with only pituitary tumor:{pred(np.argmax(prediction.clone().detach().numpy()))}\")\n"
   ],
   "metadata": {
    "collapsed": false,
    "pycharm": {
     "name": "#%%\n"
    }
   }
  }
 ]
}
